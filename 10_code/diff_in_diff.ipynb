{
 "cells": [
  {
   "cell_type": "markdown",
   "metadata": {},
   "source": [
    "## Diff-In-Diff Analysis\n",
    "\n",
    "This notebook walks through the different linear regression models generted using the treatment/control dataset generated earlier. First, a baseline model is created using only the necessary components to set up the diff-in-diff analysis: Treatment, Time_Frame, Interaction. Here, the interaction term represents the average treatment effect on baseline engagment (standard deviations of square root engagement) of a single viral post. This baseline model has the following coefficients:\n",
    " \n",
    "a. `Treatment`: Expected change in z-score square root engagement (SRE) per viral post, independent of time. Represented in standard deviations of SRE.\n",
    "b. `Time_Frame`: Expected standard deviations change in SRE with no viral post.\n",
    "c. `Treatment-Time_Frame-Interaction`: Expected standard deviations change in SRE per viral post, controlling for effects of time. This coefficient represents the per viral post Average Treatment Effect and primary metric of interest.\n",
    "\n",
    "Later in the notebook, we control for the following variables and determine whether the addition of these control variables significantly affects the interaction coefficient at the optimal window size (`w=20 posts`). These results are posted in the final report and conclusively show that these control variables do not change the underlying pattern identified using the baseline model.\n",
    "\n",
    "- Month - Month that it was posted\n",
    "- Post type - Instagram TV, Reel, Photo\n",
    "- Number of Posts - Company based metric to define the posting frequency for the company\n",
    "\n",
    "Finally, we generate the following tables to help summarize the results of this causal experiment:\n",
    "\n",
    "1. Sensitivity Plot: Sensitivity plot of the causal effect (interaction coefficient) for different window sizes. The results show an initial decrease in engagement immediately after the viral post (10 post window) followed by a gradual increase in engagement (20-30 post window).\n",
    "\n",
    "2. P-Value Plot: Plot of the P-Values for varying window sizes. This plot emphasizes the problem with bbth small window sizes and large window sizes. The former not providing enough context to produce definitive results, and the latter not having enough observations to draw conclusions.\n",
    "\n",
    "3. Multicolinearity Analysis: Calculate the VIF values for the model that includes all control variables. The results show non-significant collinearity (<5) between the predictors even with all the control variables. "
   ]
  },
  {
   "cell_type": "markdown",
   "metadata": {},
   "source": [
    "_________\n",
    "#### **Baseline Model**"
   ]
  },
  {
   "cell_type": "code",
   "execution_count": 2,
   "metadata": {},
   "outputs": [],
   "source": [
    "import pandas as pd\n",
    "import numpy as np\n",
    "import statsmodels.api as sm\n",
    "import matplotlib.pyplot as plt"
   ]
  },
  {
   "cell_type": "markdown",
   "metadata": {},
   "source": [
    "**Window = 40**"
   ]
  },
  {
   "cell_type": "code",
   "execution_count": 3,
   "metadata": {},
   "outputs": [
    {
     "name": "stdout",
     "output_type": "stream",
     "text": [
      "                              OLS Regression Results                              \n",
      "==================================================================================\n",
      "Dep. Variable:     sqrt_engagement_zscore   R-squared:                       0.004\n",
      "Model:                                OLS   Adj. R-squared:                  0.001\n",
      "Method:                     Least Squares   F-statistic:                     1.412\n",
      "Date:                    Sat, 04 May 2024   Prob (F-statistic):              0.238\n",
      "Time:                            17:33:56   Log-Likelihood:                -711.63\n",
      "No. Observations:                     960   AIC:                             1431.\n",
      "Df Residuals:                         956   BIC:                             1451.\n",
      "Df Model:                               3                                         \n",
      "Covariance Type:                nonrobust                                         \n",
      "===============================================================================\n",
      "                  coef    std err          t      P>|t|      [0.025      0.975]\n",
      "-------------------------------------------------------------------------------\n",
      "const          -0.1870      0.029     -6.522      0.000      -0.243      -0.131\n",
      "Time_Frame     -0.0650      0.041     -1.603      0.109      -0.145       0.015\n",
      "Treatment       0.0038      0.013      0.299      0.765      -0.021       0.029\n",
      "interaction     0.0154      0.018      0.863      0.388      -0.020       0.050\n",
      "==============================================================================\n",
      "Omnibus:                      230.108   Durbin-Watson:                   1.848\n",
      "Prob(Omnibus):                  0.000   Jarque-Bera (JB):              486.902\n",
      "Skew:                           1.339   Prob(JB):                    1.86e-106\n",
      "Kurtosis:                       5.236   Cond. No.                         7.90\n",
      "==============================================================================\n",
      "\n",
      "Notes:\n",
      "[1] Standard Errors assume that the covariance matrix of the errors is correctly specified.\n"
     ]
    }
   ],
   "source": [
    "import pandas as pd\n",
    "import statsmodels.api as sm\n",
    "\n",
    "data = pd.read_csv(\"window40_regressiondata_pt4.csv\")\n",
    "data[\"interaction\"] = data[\"Time_Frame\"] * data[\"Treatment\"]\n",
    "\n",
    "X = data[[\"Time_Frame\", \"Treatment\", \"interaction\"]]\n",
    "\n",
    "# Prepare predictors\n",
    "X = sm.add_constant(X)  # Adds a constant term to the predictor\n",
    "\n",
    "# Prepare response variable\n",
    "y = data[\"sqrt_engagement_zscore\"]\n",
    "\n",
    "# Build and fit the model\n",
    "model40 = sm.OLS(y, X).fit()\n",
    "print(model40.summary())"
   ]
  },
  {
   "cell_type": "markdown",
   "metadata": {},
   "source": [
    "**Window = 30**"
   ]
  },
  {
   "cell_type": "code",
   "execution_count": 15,
   "metadata": {},
   "outputs": [
    {
     "name": "stdout",
     "output_type": "stream",
     "text": [
      "                              OLS Regression Results                              \n",
      "==================================================================================\n",
      "Dep. Variable:     sqrt_engagement_zscore   R-squared:                       0.012\n",
      "Model:                                OLS   Adj. R-squared:                  0.010\n",
      "Method:                     Least Squares   F-statistic:                     5.340\n",
      "Date:                    Sat, 04 May 2024   Prob (F-statistic):            0.00117\n",
      "Time:                            17:43:35   Log-Likelihood:                -1044.0\n",
      "No. Observations:                    1320   AIC:                             2096.\n",
      "Df Residuals:                        1316   BIC:                             2117.\n",
      "Df Model:                               3                                         \n",
      "Covariance Type:                nonrobust                                         \n",
      "===============================================================================\n",
      "                  coef    std err          t      P>|t|      [0.025      0.975]\n",
      "-------------------------------------------------------------------------------\n",
      "const          -0.1688      0.025     -6.670      0.000      -0.218      -0.119\n",
      "Time_Frame     -0.0751      0.036     -2.099      0.036      -0.145      -0.005\n",
      "Treatment       0.0092      0.009      0.990      0.322      -0.009       0.028\n",
      "interaction     0.0250      0.013      1.899      0.058      -0.001       0.051\n",
      "==============================================================================\n",
      "Omnibus:                      283.034   Durbin-Watson:                   1.784\n",
      "Prob(Omnibus):                  0.000   Jarque-Bera (JB):              545.634\n",
      "Skew:                           1.268   Prob(JB):                    3.29e-119\n",
      "Kurtosis:                       4.868   Cond. No.                         9.06\n",
      "==============================================================================\n",
      "\n",
      "Notes:\n",
      "[1] Standard Errors assume that the covariance matrix of the errors is correctly specified.\n"
     ]
    }
   ],
   "source": [
    "import pandas as pd\n",
    "import statsmodels.api as sm\n",
    "\n",
    "data = pd.read_csv(\"window30_regressiondata_pt4.csv\")\n",
    "\n",
    "# Add interaction term\n",
    "data[\"interaction\"] = data[\"Time_Frame\"] * data[\"Treatment\"]\n",
    "\n",
    "# Prepare predictors\n",
    "X = data[[\"Time_Frame\", \"Treatment\", \"interaction\"]]\n",
    "X = sm.add_constant(X)  # Adds a constant term to the predictor\n",
    "\n",
    "# Prepare response variable\n",
    "y = data[\"sqrt_engagement_zscore\"]\n",
    "\n",
    "# Build and fit the model\n",
    "model30 = sm.OLS(y, X).fit()\n",
    "print(model30.summary())"
   ]
  },
  {
   "cell_type": "markdown",
   "metadata": {},
   "source": [
    "**Window = 20**"
   ]
  },
  {
   "cell_type": "code",
   "execution_count": 16,
   "metadata": {},
   "outputs": [
    {
     "name": "stdout",
     "output_type": "stream",
     "text": [
      "                              OLS Regression Results                              \n",
      "==================================================================================\n",
      "Dep. Variable:     sqrt_engagement_zscore   R-squared:                       0.006\n",
      "Model:                                OLS   Adj. R-squared:                  0.003\n",
      "Method:                     Least Squares   F-statistic:                     2.333\n",
      "Date:                    Sat, 04 May 2024   Prob (F-statistic):             0.0725\n",
      "Time:                            17:43:38   Log-Likelihood:                -929.13\n",
      "No. Observations:                    1200   AIC:                             1866.\n",
      "Df Residuals:                        1196   BIC:                             1887.\n",
      "Df Model:                               3                                         \n",
      "Covariance Type:                nonrobust                                         \n",
      "===============================================================================\n",
      "                  coef    std err          t      P>|t|      [0.025      0.975]\n",
      "-------------------------------------------------------------------------------\n",
      "const          -0.1663      0.026     -6.357      0.000      -0.218      -0.115\n",
      "Time_Frame     -0.0290      0.037     -0.783      0.434      -0.102       0.044\n",
      "Treatment      -0.0097      0.010     -1.014      0.311      -0.028       0.009\n",
      "interaction     0.0321      0.014      2.372      0.018       0.006       0.059\n",
      "==============================================================================\n",
      "Omnibus:                      232.303   Durbin-Watson:                   1.776\n",
      "Prob(Omnibus):                  0.000   Jarque-Bera (JB):              407.831\n",
      "Skew:                           1.202   Prob(JB):                     2.76e-89\n",
      "Kurtosis:                       4.542   Cond. No.                         9.16\n",
      "==============================================================================\n",
      "\n",
      "Notes:\n",
      "[1] Standard Errors assume that the covariance matrix of the errors is correctly specified.\n"
     ]
    }
   ],
   "source": [
    "import pandas as pd\n",
    "import statsmodels.api as sm\n",
    "\n",
    "data = pd.read_csv(\"window20_regressiondata_pt4.csv\")\n",
    "\n",
    "# Add interaction term\n",
    "data[\"interaction\"] = data[\"Time_Frame\"] * data[\"Treatment\"]\n",
    "\n",
    "# Prepare predictors\n",
    "X = data[[\"Time_Frame\", \"Treatment\", \"interaction\"]]\n",
    "X = sm.add_constant(X)  # Adds a constant term to the predictor\n",
    "\n",
    "# Prepare response variable\n",
    "y = data[\"sqrt_engagement_zscore\"]\n",
    "\n",
    "# Build and fit the model\n",
    "model20 = sm.OLS(y, X).fit()\n",
    "print(model20.summary())"
   ]
  },
  {
   "cell_type": "markdown",
   "metadata": {},
   "source": [
    "**Window=10**"
   ]
  },
  {
   "cell_type": "code",
   "execution_count": 17,
   "metadata": {},
   "outputs": [
    {
     "name": "stdout",
     "output_type": "stream",
     "text": [
      "                              OLS Regression Results                              \n",
      "==================================================================================\n",
      "Dep. Variable:     sqrt_engagement_zscore   R-squared:                       0.016\n",
      "Model:                                OLS   Adj. R-squared:                  0.014\n",
      "Method:                     Least Squares   F-statistic:                     7.343\n",
      "Date:                    Sat, 04 May 2024   Prob (F-statistic):           6.99e-05\n",
      "Time:                            17:43:41   Log-Likelihood:                -1062.5\n",
      "No. Observations:                    1320   AIC:                             2133.\n",
      "Df Residuals:                        1316   BIC:                             2154.\n",
      "Df Model:                               3                                         \n",
      "Covariance Type:                nonrobust                                         \n",
      "===============================================================================\n",
      "                  coef    std err          t      P>|t|      [0.025      0.975]\n",
      "-------------------------------------------------------------------------------\n",
      "const          -0.1848      0.023     -8.123      0.000      -0.229      -0.140\n",
      "Time_Frame      0.0255      0.032      0.792      0.428      -0.038       0.089\n",
      "Treatment       0.0253      0.006      4.420      0.000       0.014       0.037\n",
      "interaction    -0.0163      0.008     -2.009      0.045      -0.032      -0.000\n",
      "==============================================================================\n",
      "Omnibus:                      202.598   Durbin-Watson:                   1.839\n",
      "Prob(Omnibus):                  0.000   Jarque-Bera (JB):              330.518\n",
      "Skew:                           1.008   Prob(JB):                     1.69e-72\n",
      "Kurtosis:                       4.394   Cond. No.                         11.3\n",
      "==============================================================================\n",
      "\n",
      "Notes:\n",
      "[1] Standard Errors assume that the covariance matrix of the errors is correctly specified.\n"
     ]
    }
   ],
   "source": [
    "import pandas as pd\n",
    "import statsmodels.api as sm\n",
    "\n",
    "data = pd.read_csv(\"window10_regressiondata_pt4.csv\")\n",
    "\n",
    "# Add interaction term\n",
    "data[\"interaction\"] = data[\"Time_Frame\"] * data[\"Treatment\"]\n",
    "\n",
    "# Prepare predictors\n",
    "X = data[[\"Time_Frame\", \"Treatment\", \"interaction\"]]\n",
    "X = sm.add_constant(X)  # Adds a constant term to the predictor\n",
    "\n",
    "# Prepare response variable\n",
    "y = data[\"sqrt_engagement_zscore\"]\n",
    "\n",
    "# Build and fit the model\n",
    "model10 = sm.OLS(y, X).fit()\n",
    "print(model10.summary())"
   ]
  },
  {
   "cell_type": "markdown",
   "metadata": {},
   "source": [
    "**Window=5**"
   ]
  },
  {
   "cell_type": "code",
   "execution_count": 7,
   "metadata": {},
   "outputs": [
    {
     "name": "stdout",
     "output_type": "stream",
     "text": [
      "                              OLS Regression Results                              \n",
      "==================================================================================\n",
      "Dep. Variable:     sqrt_engagement_zscore   R-squared:                       0.009\n",
      "Model:                                OLS   Adj. R-squared:                  0.006\n",
      "Method:                     Least Squares   F-statistic:                     3.367\n",
      "Date:                    Sat, 04 May 2024   Prob (F-statistic):             0.0180\n",
      "Time:                            17:36:59   Log-Likelihood:                -1000.6\n",
      "No. Observations:                    1180   AIC:                             2009.\n",
      "Df Residuals:                        1176   BIC:                             2029.\n",
      "Df Model:                               3                                         \n",
      "Covariance Type:                nonrobust                                         \n",
      "===============================================================================\n",
      "                  coef    std err          t      P>|t|      [0.025      0.975]\n",
      "-------------------------------------------------------------------------------\n",
      "const          -0.1516      0.026     -5.725      0.000      -0.204      -0.100\n",
      "Time_Frame     -0.0103      0.037     -0.275      0.784      -0.084       0.063\n",
      "Treatment       0.0393      0.014      2.884      0.004       0.013       0.066\n",
      "interaction    -0.0304      0.019     -1.577      0.115      -0.068       0.007\n",
      "==============================================================================\n",
      "Omnibus:                      203.975   Durbin-Watson:                   1.763\n",
      "Prob(Omnibus):                  0.000   Jarque-Bera (JB):              342.912\n",
      "Skew:                           1.103   Prob(JB):                     3.45e-75\n",
      "Kurtosis:                       4.453   Cond. No.                         6.21\n",
      "==============================================================================\n",
      "\n",
      "Notes:\n",
      "[1] Standard Errors assume that the covariance matrix of the errors is correctly specified.\n"
     ]
    }
   ],
   "source": [
    "import pandas as pd\n",
    "import statsmodels.api as sm\n",
    "\n",
    "data = pd.read_csv(\"window5_regressiondata_pt4.csv\")\n",
    "\n",
    "# Add interaction term\n",
    "data[\"interaction\"] = data[\"Time_Frame\"] * data[\"Treatment\"]\n",
    "\n",
    "# Prepare predictors\n",
    "X = data[[\"Time_Frame\", \"Treatment\", \"interaction\"]]\n",
    "X = sm.add_constant(X)  # Adds a constant term to the predictor\n",
    "\n",
    "# Prepare response variable\n",
    "y = data[\"sqrt_engagement_zscore\"]\n",
    "\n",
    "# Build and fit the model\n",
    "model5 = sm.OLS(y, X).fit()\n",
    "print(model5.summary())"
   ]
  },
  {
   "cell_type": "markdown",
   "metadata": {},
   "source": [
    "________\n",
    "## Control for Month\n"
   ]
  },
  {
   "cell_type": "markdown",
   "metadata": {},
   "source": [
    "**Window=20**"
   ]
  },
  {
   "cell_type": "code",
   "execution_count": 10,
   "metadata": {},
   "outputs": [
    {
     "name": "stdout",
     "output_type": "stream",
     "text": [
      "                              OLS Regression Results                              \n",
      "==================================================================================\n",
      "Dep. Variable:     sqrt_engagement_zscore   R-squared:                       0.052\n",
      "Model:                                OLS   Adj. R-squared:                  0.040\n",
      "Method:                     Least Squares   F-statistic:                     4.601\n",
      "Date:                    Sat, 04 May 2024   Prob (F-statistic):           3.41e-08\n",
      "Time:                            17:38:31   Log-Likelihood:                -900.87\n",
      "No. Observations:                    1200   AIC:                             1832.\n",
      "Df Residuals:                        1185   BIC:                             1908.\n",
      "Df Model:                              14                                         \n",
      "Covariance Type:                nonrobust                                         \n",
      "===============================================================================\n",
      "                  coef    std err          t      P>|t|      [0.025      0.975]\n",
      "-------------------------------------------------------------------------------\n",
      "const          -0.0724      0.076     -0.952      0.341      -0.221       0.077\n",
      "Treatment      -0.0113      0.011     -1.058      0.290      -0.032       0.010\n",
      "Time_Frame     -0.0534      0.038     -1.401      0.162      -0.128       0.021\n",
      "interaction     0.0330      0.015      2.229      0.026       0.004       0.062\n",
      "Month_2         0.1144      0.115      0.992      0.321      -0.112       0.341\n",
      "Month_3        -0.0571      0.088     -0.646      0.518      -0.230       0.116\n",
      "Month_4        -0.1112      0.092     -1.211      0.226      -0.291       0.069\n",
      "Month_5         0.0410      0.081      0.503      0.615      -0.119       0.201\n",
      "Month_6        -0.2709      0.080     -3.407      0.001      -0.427      -0.115\n",
      "Month_7        -0.0358      0.090     -0.398      0.691      -0.212       0.141\n",
      "Month_8        -0.0103      0.087     -0.118      0.906      -0.182       0.161\n",
      "Month_9        -0.1522      0.081     -1.876      0.061      -0.311       0.007\n",
      "Month_10        0.0341      0.082      0.416      0.678      -0.127       0.195\n",
      "Month_11       -0.1837      0.083     -2.205      0.028      -0.347      -0.020\n",
      "Month_12       -0.0073      0.106     -0.069      0.945      -0.215       0.200\n",
      "==============================================================================\n",
      "Omnibus:                      221.535   Durbin-Watson:                   1.858\n",
      "Prob(Omnibus):                  0.000   Jarque-Bera (JB):              379.987\n",
      "Skew:                           1.163   Prob(JB):                     3.07e-83\n",
      "Kurtosis:                       4.480   Cond. No.                         52.5\n",
      "==============================================================================\n",
      "\n",
      "Notes:\n",
      "[1] Standard Errors assume that the covariance matrix of the errors is correctly specified.\n"
     ]
    }
   ],
   "source": [
    "import pandas as pd\n",
    "import statsmodels.api as sm\n",
    "\n",
    "data = pd.read_csv(\"window20_regressiondata_pt4.csv\")\n",
    "data = pd.get_dummies(data, columns=[\"Month\"], drop_first=True)\n",
    "data[\"interaction\"] = data[\"Time_Frame\"] * data[\"Treatment\"]\n",
    "\n",
    "X = data[\n",
    "    [\"Treatment\", \"Time_Frame\", \"interaction\"]\n",
    "    + [col for col in data.columns if \"Month_\" in col]\n",
    "]\n",
    "\n",
    "# Prepare predictors\n",
    "X = sm.add_constant(X)  # Adds a constant term to the predictor\n",
    "\n",
    "# Prepare response variable\n",
    "y = data[\"sqrt_engagement_zscore\"]\n",
    "\n",
    "# Build and fit the model\n",
    "model20 = sm.OLS(y, X).fit()\n",
    "print(model20.summary())"
   ]
  },
  {
   "cell_type": "markdown",
   "metadata": {},
   "source": [
    "_______\n",
    "## Control for Post Type"
   ]
  },
  {
   "cell_type": "markdown",
   "metadata": {},
   "source": [
    "**Window=20**"
   ]
  },
  {
   "cell_type": "code",
   "execution_count": 12,
   "metadata": {},
   "outputs": [
    {
     "name": "stdout",
     "output_type": "stream",
     "text": [
      "                              OLS Regression Results                              \n",
      "==================================================================================\n",
      "Dep. Variable:     sqrt_engagement_zscore   R-squared:                       0.008\n",
      "Model:                                OLS   Adj. R-squared:                  0.002\n",
      "Method:                     Least Squares   F-statistic:                     1.415\n",
      "Date:                    Sat, 04 May 2024   Prob (F-statistic):              0.195\n",
      "Time:                            17:41:11   Log-Likelihood:                -927.67\n",
      "No. Observations:                    1200   AIC:                             1871.\n",
      "Df Residuals:                        1192   BIC:                             1912.\n",
      "Df Model:                               7                                         \n",
      "Covariance Type:                nonrobust                                         \n",
      "===============================================================================\n",
      "                  coef    std err          t      P>|t|      [0.025      0.975]\n",
      "-------------------------------------------------------------------------------\n",
      "const          -0.1907      0.034     -5.566      0.000      -0.258      -0.123\n",
      "Treatment      -0.0108      0.010     -1.122      0.262      -0.030       0.008\n",
      "Time_Frame     -0.0286      0.037     -0.772      0.440      -0.101       0.044\n",
      "interaction     0.0328      0.014      2.423      0.016       0.006       0.059\n",
      "Type_IGTV      -0.4353      0.527     -0.825      0.409      -1.470       0.600\n",
      "Type_IMAGE      0.0165      0.043      0.384      0.701      -0.068       0.101\n",
      "Type_VIDEO      0.3111      0.527      0.590      0.555      -0.723       1.345\n",
      "Type_reel       0.0464      0.035      1.326      0.185      -0.022       0.115\n",
      "==============================================================================\n",
      "Omnibus:                      238.586   Durbin-Watson:                   1.771\n",
      "Prob(Omnibus):                  0.000   Jarque-Bera (JB):              427.654\n",
      "Skew:                           1.219   Prob(JB):                     1.37e-93\n",
      "Kurtosis:                       4.615   Cond. No.                         112.\n",
      "==============================================================================\n",
      "\n",
      "Notes:\n",
      "[1] Standard Errors assume that the covariance matrix of the errors is correctly specified.\n"
     ]
    }
   ],
   "source": [
    "import pandas as pd\n",
    "import statsmodels.api as sm\n",
    "\n",
    "data = pd.read_csv(\"window20_regressiondata_pt4.csv\")\n",
    "data = pd.get_dummies(data, columns=[\"Type\"], drop_first=True)\n",
    "data[\"interaction\"] = data[\"Time_Frame\"] * data[\"Treatment\"]\n",
    "\n",
    "X = data[\n",
    "    [\"Treatment\", \"Time_Frame\", \"interaction\"]\n",
    "    + [col for col in data.columns if \"Type_\" in col]\n",
    "]\n",
    "\n",
    "# Prepare predictors\n",
    "X = sm.add_constant(X)  # Adds a constant term to the predictor\n",
    "\n",
    "# Prepare response variable\n",
    "y = data[\"sqrt_engagement_zscore\"]\n",
    "\n",
    "# Build and fit the model\n",
    "model20 = sm.OLS(y, X).fit()\n",
    "print(model20.summary())"
   ]
  },
  {
   "cell_type": "markdown",
   "metadata": {},
   "source": [
    "______\n",
    "## Control for Post Frequency"
   ]
  },
  {
   "cell_type": "markdown",
   "metadata": {},
   "source": [
    "**Window=20**"
   ]
  },
  {
   "cell_type": "code",
   "execution_count": 13,
   "metadata": {},
   "outputs": [
    {
     "name": "stdout",
     "output_type": "stream",
     "text": [
      "                              OLS Regression Results                              \n",
      "==================================================================================\n",
      "Dep. Variable:     sqrt_engagement_zscore   R-squared:                       0.007\n",
      "Model:                                OLS   Adj. R-squared:                  0.004\n",
      "Method:                     Least Squares   F-statistic:                     2.134\n",
      "Date:                    Sat, 04 May 2024   Prob (F-statistic):             0.0746\n",
      "Time:                            17:41:39   Log-Likelihood:                -928.36\n",
      "No. Observations:                    1200   AIC:                             1867.\n",
      "Df Residuals:                        1195   BIC:                             1892.\n",
      "Df Model:                               4                                         \n",
      "Covariance Type:                nonrobust                                         \n",
      "===============================================================================\n",
      "                  coef    std err          t      P>|t|      [0.025      0.975]\n",
      "-------------------------------------------------------------------------------\n",
      "const          -0.1389      0.034     -4.051      0.000      -0.206      -0.072\n",
      "Time_Frame     -0.0290      0.037     -0.783      0.434      -0.102       0.044\n",
      "Treatment      -0.0098      0.010     -1.027      0.305      -0.029       0.009\n",
      "interaction     0.0321      0.014      2.373      0.018       0.006       0.059\n",
      "num_posts   -3.515e-05   2.84e-05     -1.238      0.216   -9.09e-05    2.05e-05\n",
      "==============================================================================\n",
      "Omnibus:                      236.587   Durbin-Watson:                   1.778\n",
      "Prob(Omnibus):                  0.000   Jarque-Bera (JB):              421.292\n",
      "Skew:                           1.214   Prob(JB):                     3.29e-92\n",
      "Kurtosis:                       4.592   Cond. No.                     2.80e+03\n",
      "==============================================================================\n",
      "\n",
      "Notes:\n",
      "[1] Standard Errors assume that the covariance matrix of the errors is correctly specified.\n",
      "[2] The condition number is large, 2.8e+03. This might indicate that there are\n",
      "strong multicollinearity or other numerical problems.\n"
     ]
    }
   ],
   "source": [
    "import pandas as pd\n",
    "import statsmodels.api as sm\n",
    "\n",
    "data = pd.read_csv(\"window20_regressiondata_pt4.csv\")\n",
    "\n",
    "# Add interaction term\n",
    "data[\"interaction\"] = data[\"Time_Frame\"] * data[\"Treatment\"]\n",
    "\n",
    "# Prepare predictors\n",
    "X = data[[\"Time_Frame\", \"Treatment\", \"interaction\", \"num_posts\"]]\n",
    "X = sm.add_constant(X)  # Adds a constant term to the predictor\n",
    "\n",
    "# Prepare response variable\n",
    "y = data[\"sqrt_engagement_zscore\"]\n",
    "\n",
    "# Build and fit the model\n",
    "model20 = sm.OLS(y, X).fit()\n",
    "print(model20.summary())"
   ]
  },
  {
   "cell_type": "markdown",
   "metadata": {},
   "source": [
    "______\n",
    "## Control for All Three Control Variables"
   ]
  },
  {
   "cell_type": "code",
   "execution_count": 22,
   "metadata": {},
   "outputs": [
    {
     "name": "stdout",
     "output_type": "stream",
     "text": [
      "                              OLS Regression Results                              \n",
      "==================================================================================\n",
      "Dep. Variable:     sqrt_engagement_zscore   R-squared:                       0.055\n",
      "Model:                                OLS   Adj. R-squared:                  0.040\n",
      "Method:                     Least Squares   F-statistic:                     3.603\n",
      "Date:                    Sat, 04 May 2024   Prob (F-statistic):           2.85e-07\n",
      "Time:                            17:45:14   Log-Likelihood:                -898.79\n",
      "No. Observations:                    1200   AIC:                             1838.\n",
      "Df Residuals:                        1180   BIC:                             1939.\n",
      "Df Model:                              19                                         \n",
      "Covariance Type:                nonrobust                                         \n",
      "===============================================================================\n",
      "                  coef    std err          t      P>|t|      [0.025      0.975]\n",
      "-------------------------------------------------------------------------------\n",
      "const          -0.0662      0.087     -0.759      0.448      -0.237       0.105\n",
      "Treatment      -0.0110      0.011     -1.026      0.305      -0.032       0.010\n",
      "Time_Frame     -0.0498      0.038     -1.300      0.194      -0.125       0.025\n",
      "interaction     0.0314      0.015      2.089      0.037       0.002       0.061\n",
      "num_posts   -2.792e-05   3.25e-05     -0.858      0.391   -9.17e-05    3.59e-05\n",
      "Month_2         0.1013      0.116      0.874      0.382      -0.126       0.329\n",
      "Month_3        -0.0520      0.089     -0.586      0.558      -0.226       0.122\n",
      "Month_4        -0.1155      0.093     -1.247      0.213      -0.297       0.066\n",
      "Month_5         0.0364      0.082      0.442      0.659      -0.125       0.198\n",
      "Month_6        -0.2774      0.080     -3.462      0.001      -0.435      -0.120\n",
      "Month_7        -0.0496      0.095     -0.523      0.601      -0.235       0.136\n",
      "Month_8        -0.0351      0.093     -0.378      0.706      -0.217       0.147\n",
      "Month_9        -0.1604      0.083     -1.931      0.054      -0.323       0.003\n",
      "Month_10        0.0206      0.084      0.244      0.807      -0.145       0.186\n",
      "Month_11       -0.2011      0.086     -2.330      0.020      -0.371      -0.032\n",
      "Month_12       -0.0280      0.107     -0.261      0.794      -0.239       0.183\n",
      "Type_IGTV      -0.4977      0.521     -0.955      0.340      -1.520       0.524\n",
      "Type_IMAGE      0.0169      0.043      0.395      0.693      -0.067       0.101\n",
      "Type_VIDEO      0.4745      0.519      0.914      0.361      -0.544       1.493\n",
      "Type_reel       0.0433      0.035      1.253      0.210      -0.024       0.111\n",
      "==============================================================================\n",
      "Omnibus:                      230.487   Durbin-Watson:                   1.856\n",
      "Prob(Omnibus):                  0.000   Jarque-Bera (JB):              407.248\n",
      "Skew:                           1.187   Prob(JB):                     3.69e-89\n",
      "Kurtosis:                       4.583   Cond. No.                     3.30e+04\n",
      "==============================================================================\n",
      "\n",
      "Notes:\n",
      "[1] Standard Errors assume that the covariance matrix of the errors is correctly specified.\n",
      "[2] The condition number is large, 3.3e+04. This might indicate that there are\n",
      "strong multicollinearity or other numerical problems.\n"
     ]
    }
   ],
   "source": [
    "import pandas as pd\n",
    "import statsmodels.api as sm\n",
    "\n",
    "\n",
    "data = pd.read_csv(\"window20_regressiondata_pt4.csv\")\n",
    "data = pd.get_dummies(data, columns=[\"Month\",\"Type\"], drop_first=True)\n",
    "data[\"interaction\"] = data[\"Time_Frame\"] * data[\"Treatment\"]\n",
    "\n",
    "X = data[\n",
    "    [\"Treatment\", \"Time_Frame\", \"interaction\", \"num_posts\"]\n",
    "    + [col for col in data.columns if \"Type_\" in col or \"Month_\" in col]\n",
    "]\n",
    "\n",
    "# Prepare predictors\n",
    "X = sm.add_constant(X)  # Adds a constant term to the predictor\n",
    "\n",
    "# Prepare response variable\n",
    "y = data[\"sqrt_engagement_zscore\"]\n",
    "\n",
    "# Build and fit the model\n",
    "model20 = sm.OLS(y, X).fit()\n",
    "print(model20.summary())"
   ]
  },
  {
   "cell_type": "markdown",
   "metadata": {},
   "source": [
    "_______\n",
    "## Sensitivity Plots"
   ]
  },
  {
   "cell_type": "code",
   "execution_count": 18,
   "metadata": {},
   "outputs": [],
   "source": [
    "df = pd.DataFrame({\n",
    "    'Coefficients': [model10.params['interaction'], model20.params['interaction'], model30.params['interaction']],\n",
    "    'CI Lower': [model10.conf_int().loc['interaction',0], model20.conf_int().loc['interaction',0], model30.conf_int().loc['interaction',0]],\n",
    "    'CI Upper': [model10.conf_int().loc['interaction',1], model20.conf_int().loc['interaction',1], model30.conf_int().loc['interaction',1]],\n",
    "    'Window': [10,20,30]\n",
    "})"
   ]
  },
  {
   "cell_type": "code",
   "execution_count": 19,
   "metadata": {},
   "outputs": [
    {
     "data": {
      "image/png": "[encoded data removed]",
      "text/plain": [
       "<Figure size 800x500 with 1 Axes>"
      ]
     },
     "metadata": {},
     "output_type": "display_data"
    }
   ],
   "source": [
    "# Plotting\n",
    "plt.figure(figsize=(8, 5))\n",
    "# Plotting with error bars\n",
    "plt.errorbar(df['Window'], df['Coefficients'], \n",
    "             yerr=[df['Coefficients'] - df['CI Lower'], df['CI Upper'] - df['Coefficients']], \n",
    "             fmt='o', capsize=5, capthick=2, elinewidth=2, markeredgewidth=2, label='Coefficient ± 95%CI')\n",
    "\n",
    "plt.xlabel('Number of Posts after a Viral Post')\n",
    "plt.ylabel('Standard Deviation of Square Root Engagement')\n",
    "plt.title('Causal Interaction Coefficient by Window Size')\n",
    "\n",
    "# Annotating each point with its coefficient value\n",
    "for idx, row in df.iterrows():\n",
    "    plt.text(row['Window'], row['Coefficients'], f\"{row['Coefficients']:.3f}\", \n",
    "             color='black', ha='right', va='bottom')\n",
    "\n",
    "# Adding only a horizontal line at y=0\n",
    "plt.axhline(0, color='gray', linewidth=1)\n",
    "\n",
    "\n",
    "# Manually setting x-ticks:\n",
    "plt.xticks([0, 10, 20, 30])  # Adding more ticks for visual spacing\n",
    "plt.grid(False)\n",
    "plt.legend()\n",
    "plt.show()"
   ]
  },
  {
   "cell_type": "markdown",
   "metadata": {},
   "source": [
    "______\n",
    "## P-Value Plot"
   ]
  },
  {
   "cell_type": "code",
   "execution_count": 20,
   "metadata": {},
   "outputs": [],
   "source": [
    "p_values = [model5.pvalues['interaction'],\n",
    " model10.pvalues['interaction'],\n",
    " model20.pvalues['interaction'],\n",
    " model30.pvalues['interaction'],\n",
    " model40.pvalues['interaction']]\n",
    "window_sizes = [\"5\",\"10\",\"20\",\"30\",\"40\"]"
   ]
  },
  {
   "cell_type": "code",
   "execution_count": 21,
   "metadata": {},
   "outputs": [
    {
     "data": {
      "image/png": "[encoded data removed]",
      "text/plain": [
       "<Figure size 800x500 with 1 Axes>"
      ]
     },
     "metadata": {},
     "output_type": "display_data"
    }
   ],
   "source": [
    "# Plotting\n",
    "plt.figure(figsize=(8, 5))\n",
    "plt.plot(p_values, marker='o', linestyle='-', color='b', label='P-Values')\n",
    "plt.axhline(y=0.05, color='r', linestyle='--', label='Significance Level (0.05)')\n",
    "plt.axhline(y=0.10, color='orange', linestyle='--', label='Significance Level (0.10)')\n",
    "\n",
    "plt.xlabel('Baseline Window Size (Number of Posts)')\n",
    "plt.ylabel('Interaction Term P-Value')\n",
    "plt.title('P-Values and Baseline Window Sizes')\n",
    "plt.xticks(range(len(window_sizes)), window_sizes)  # Set x-ticks to index of list\n",
    "plt.legend()\n",
    "plt.grid(False)\n",
    "plt.show()"
   ]
  },
  {
   "cell_type": "markdown",
   "metadata": {},
   "source": [
    "_____\n",
    "## VIF Multicollinearity Table"
   ]
  },
  {
   "cell_type": "code",
   "execution_count": 23,
   "metadata": {},
   "outputs": [
    {
     "name": "stdout",
     "output_type": "stream",
     "text": [
      "        feature        VIF\n",
      "0         const  34.251276\n",
      "1     Treatment   2.628344\n",
      "2    Time_Frame   1.650596\n",
      "3   interaction   3.192306\n",
      "4     num_posts   1.362326\n",
      "5       Month_2   1.618660\n",
      "6       Month_3   2.254476\n",
      "7       Month_4   2.124200\n",
      "8       Month_5   3.611599\n",
      "9       Month_6   3.771962\n",
      "10      Month_7   2.487677\n",
      "11      Month_8   2.583290\n",
      "12      Month_9   3.573130\n",
      "13     Month_10   3.068062\n",
      "14     Month_11   2.796208\n",
      "15     Month_12   1.712544\n",
      "16    Type_IGTV   1.017963\n",
      "17   Type_IMAGE   1.356181\n",
      "18   Type_VIDEO   1.010281\n",
      "19    Type_reel   1.339015\n"
     ]
    }
   ],
   "source": [
    "from statsmodels.stats.outliers_influence import variance_inflation_factor\n",
    "\n",
    "# Use X from the model that includes all the control variables\n",
    "# Function to calculate VIF for each predictor\n",
    "def calculate_vif(X):\n",
    "    # VIF dataframe\n",
    "    vif_data = pd.DataFrame()\n",
    "    vif_data[\"feature\"] = X.columns\n",
    "    \n",
    "    # Calculating VIF for each feature\n",
    "    vif_data[\"VIF\"] = [variance_inflation_factor(X.values, i) for i in range(X.shape[1])]\n",
    "    return vif_data\n",
    "\n",
    "vif_dataframe = calculate_vif(X)\n",
    "print(vif_dataframe)\n"
   ]
  },
  {
   "cell_type": "markdown",
   "metadata": {},
   "source": [
    "_________"
   ]
  }
 ],
 "metadata": {
  "kernelspec": {
   "display_name": "base",
   "language": "python",
   "name": "python3"
  },
  "language_info": {
   "codemirror_mode": {
    "name": "ipython",
    "version": 3
   },
   "file_extension": ".py",
   "mimetype": "text/x-python",
   "name": "python",
   "nbconvert_exporter": "python",
   "pygments_lexer": "ipython3",
   "version": "3.11.5"
  }
 },
 "nbformat": 4,
 "nbformat_minor": 2
}
