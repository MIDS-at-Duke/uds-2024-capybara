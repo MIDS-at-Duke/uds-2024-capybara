{
 "cells": [
  {
   "cell_type": "code",
   "execution_count": 14,
   "metadata": {},
   "outputs": [],
   "source": [
    "# Data Ingestion \n",
    "import pandas as pd\n",
    "\n",
    "raw_df = pd.read_csv('../00_src/UDS_Capybara - Master_db.csv')"
   ]
  },
  {
   "cell_type": "code",
   "execution_count": 15,
   "metadata": {},
   "outputs": [
    {
     "data": {
      "text/html": [
       "<div>\n",
       "<style scoped>\n",
       "    .dataframe tbody tr th:only-of-type {\n",
       "        vertical-align: middle;\n",
       "    }\n",
       "\n",
       "    .dataframe tbody tr th {\n",
       "        vertical-align: top;\n",
       "    }\n",
       "\n",
       "    .dataframe thead th {\n",
       "        text-align: right;\n",
       "    }\n",
       "</style>\n",
       "<table border=\"1\" class=\"dataframe\">\n",
       "  <thead>\n",
       "    <tr style=\"text-align: right;\">\n",
       "      <th></th>\n",
       "      <th>INDUSTRY</th>\n",
       "      <th>PLATFORM</th>\n",
       "      <th>PROFILE</th>\n",
       "      <th>FOLLOWERS</th>\n",
       "      <th>FOLLOWERS EVOLUTION</th>\n",
       "      <th>ENGAGEMENT</th>\n",
       "      <th>POSTS</th>\n",
       "      <th>AVERAGE ENG/ POST</th>\n",
       "      <th>AVERAGE ENG RATE/ POST</th>\n",
       "      <th>ENGAGEMENT RATE/ PROFILE</th>\n",
       "      <th>REACH</th>\n",
       "      <th>VIEWS</th>\n",
       "    </tr>\n",
       "  </thead>\n",
       "  <tbody>\n",
       "    <tr>\n",
       "      <th>174</th>\n",
       "      <td>FMCG</td>\n",
       "      <td>Instagram</td>\n",
       "      <td>CravnFlavor</td>\n",
       "      <td>780</td>\n",
       "      <td>0 0%</td>\n",
       "      <td>206</td>\n",
       "      <td>14</td>\n",
       "      <td>14.7 /post</td>\n",
       "      <td>2%</td>\n",
       "      <td>26.41%</td>\n",
       "      <td>2,652</td>\n",
       "      <td>NaN</td>\n",
       "    </tr>\n",
       "    <tr>\n",
       "      <th>64</th>\n",
       "      <td>Fashion</td>\n",
       "      <td>Twitter</td>\n",
       "      <td>Nike</td>\n",
       "      <td>10,049,679</td>\n",
       "      <td>57,462 0.58%</td>\n",
       "      <td>3683</td>\n",
       "      <td>2</td>\n",
       "      <td>1842 /post</td>\n",
       "      <td>0%</td>\n",
       "      <td>0%</td>\n",
       "      <td>NaN</td>\n",
       "      <td>NaN</td>\n",
       "    </tr>\n",
       "    <tr>\n",
       "      <th>35</th>\n",
       "      <td>Tech</td>\n",
       "      <td>Facebook</td>\n",
       "      <td>calendly</td>\n",
       "      <td>9,678</td>\n",
       "      <td>59 0.61%</td>\n",
       "      <td>0</td>\n",
       "      <td>0</td>\n",
       "      <td>0 /post</td>\n",
       "      <td>0%</td>\n",
       "      <td>0%</td>\n",
       "      <td>0</td>\n",
       "      <td>NaN</td>\n",
       "    </tr>\n",
       "    <tr>\n",
       "      <th>155</th>\n",
       "      <td>Fashion</td>\n",
       "      <td>Twiiter</td>\n",
       "      <td>Primark</td>\n",
       "      <td>264,970</td>\n",
       "      <td>0 0%</td>\n",
       "      <td>0</td>\n",
       "      <td>0</td>\n",
       "      <td>0 /post</td>\n",
       "      <td>0%</td>\n",
       "      <td>0%</td>\n",
       "      <td>NaN</td>\n",
       "      <td>NaN</td>\n",
       "    </tr>\n",
       "    <tr>\n",
       "      <th>15</th>\n",
       "      <td>Tech</td>\n",
       "      <td>Facebook</td>\n",
       "      <td>smartsheet</td>\n",
       "      <td>32,048</td>\n",
       "      <td>0 0%</td>\n",
       "      <td>179</td>\n",
       "      <td>20</td>\n",
       "      <td>8.9 /post</td>\n",
       "      <td>0.03%</td>\n",
       "      <td>0.56%</td>\n",
       "      <td>736</td>\n",
       "      <td>NaN</td>\n",
       "    </tr>\n",
       "  </tbody>\n",
       "</table>\n",
       "</div>"
      ],
      "text/plain": [
       "    INDUSTRY   PLATFORM      PROFILE   FOLLOWERS FOLLOWERS EVOLUTION  \\\n",
       "174     FMCG  Instagram  CravnFlavor         780                0 0%   \n",
       "64   Fashion    Twitter         Nike  10,049,679        57,462 0.58%   \n",
       "35      Tech   Facebook     calendly       9,678            59 0.61%   \n",
       "155  Fashion    Twiiter      Primark     264,970                0 0%   \n",
       "15      Tech   Facebook   smartsheet      32,048                0 0%   \n",
       "\n",
       "     ENGAGEMENT  POSTS AVERAGE ENG/ POST AVERAGE ENG RATE/ POST  \\\n",
       "174         206     14        14.7 /post                     2%   \n",
       "64         3683      2        1842 /post                     0%   \n",
       "35            0      0           0 /post                     0%   \n",
       "155           0      0           0 /post                     0%   \n",
       "15          179     20         8.9 /post                  0.03%   \n",
       "\n",
       "    ENGAGEMENT RATE/ PROFILE  REACH VIEWS  \n",
       "174                   26.41%  2,652   NaN  \n",
       "64                        0%    NaN   NaN  \n",
       "35                        0%      0   NaN  \n",
       "155                       0%    NaN   NaN  \n",
       "15                     0.56%    736   NaN  "
      ]
     },
     "execution_count": 15,
     "metadata": {},
     "output_type": "execute_result"
    }
   ],
   "source": [
    "# Glimpse of the raw dataset\n",
    "raw_df.sample(5)"
   ]
  },
  {
   "cell_type": "code",
   "execution_count": 16,
   "metadata": {},
   "outputs": [
    {
     "name": "stdout",
     "output_type": "stream",
     "text": [
      "Unique platforms: ['facebook' 'tiktok' 'instagram' 'linkedin' 'youtube' 'twitter'\n",
      " 'intstagram' 'twiiter']\n"
     ]
    }
   ],
   "source": [
    "# Clean the 'PLATFORM' column by removing spaces and converting to lowercase\n",
    "raw_df['PLATFORM'] = raw_df['PLATFORM'].str.replace(' ', '').str.lower()\n",
    "\n",
    "# Identify and print unique platforms before further cleaning\n",
    "unique_platforms = raw_df['PLATFORM'].unique()\n",
    "print(\"Unique platforms:\", unique_platforms)"
   ]
  },
  {
   "cell_type": "code",
   "execution_count": 17,
   "metadata": {},
   "outputs": [
    {
     "name": "stdout",
     "output_type": "stream",
     "text": [
      "['facebook' 'tiktok' 'instagram' 'youtube' 'twitter']\n"
     ]
    }
   ],
   "source": [
    "# Correct typos in the 'PLATFORM' column and exclude 'linkedin' platform (B2C focus)\n",
    "raw_df = raw_df.replace({'PLATFORM': {'intstagram': 'instagram', 'twiiter': 'twitter'}})\n",
    "\n",
    "raw_df = raw_df[raw_df['PLATFORM'] != 'linkedin']\n",
    "\n",
    "# Validate unique platforms in data\n",
    "unique_platforms = raw_df['PLATFORM'].unique()\n",
    "print(unique_platforms)"
   ]
  },
  {
   "cell_type": "code",
   "execution_count": 18,
   "metadata": {},
   "outputs": [
    {
     "name": "stdout",
     "output_type": "stream",
     "text": [
      "Unique profiles after cleaning: ['netflix' 'apple' 'amazon' 'smartsheet' 'uber' 'airbnb' 'asana'\n",
      " 'calendly' 'spotify' 'blinkist' 'instacart' 'pathwright' 'nike' 'gucci'\n",
      " 'adidas' 'chanel' 'zara' 'dior' 'levis' 'forever21' \"levi's\"\n",
      " 'christiandior' 'levi’s' 'expedia' 'carnival' 'delta' 'deltaairlines'\n",
      " 'carnivalcruiseline' 'allegiant' 'allegiantair' 'vrbo' 'hostelworld'\n",
      " 'hilton' 'palisociety' 'hostelworld–meettheworld' 'trivago' 'tripadvisor'\n",
      " 'vikingcruises' 'viking' 'asos' 'primark' 'uniqloglobal' 'boohoo'\n",
      " 'uniqlo' 'starbucks' 'coca-cola' 'nutella' 'dove' 'heineken' 'justegg'\n",
      " 'oralb' 'burstoralcare' 'coppercowcoffee' 'rulebreakersnacks'\n",
      " 'caymanjack' 'pretzilla' 'cravnflavor']\n"
     ]
    }
   ],
   "source": [
    "# Clean the 'PROFILE' column by removing spaces and converting to lowercase\n",
    "raw_df.loc[:, 'PROFILE'] = raw_df['PROFILE'].str.replace(' ', '').str.lower()\n",
    "\n",
    "# Display unique profiles\n",
    "unique_profiles = raw_df['PROFILE'].unique()\n",
    "print(\"Unique profiles after cleaning:\", unique_profiles)"
   ]
  },
  {
   "cell_type": "code",
   "execution_count": 19,
   "metadata": {},
   "outputs": [],
   "source": [
    "# Correcting specific typos and inconsistencies in the 'PROFILE' column\n",
    "raw_df.loc[:, 'PROFILE'] = raw_df['PROFILE'].replace({\n",
    "    'allegiantair': 'allegiant',\n",
    "    'carnivalcruiseline': 'carnival',\n",
    "    'deltaairlines': 'delta',\n",
    "    'christiandior': 'dior',\n",
    "    'hostelworld–meettheworld': 'hostelworld',\n",
    "    'levi’s': 'levis',\n",
    "    \"levi's\": 'levis',\n",
    "    'uniqloglobal': 'uniqlo',\n",
    "    'vikingcruises': 'viking'\n",
    "})"
   ]
  },
  {
   "cell_type": "code",
   "execution_count": 20,
   "metadata": {},
   "outputs": [
    {
     "data": {
      "text/plain": [
       "array(['netflix', 'apple', 'amazon', 'smartsheet', 'uber', 'airbnb',\n",
       "       'asana', 'calendly', 'spotify', 'blinkist', 'instacart',\n",
       "       'pathwright', 'nike', 'gucci', 'adidas', 'chanel', 'zara', 'dior',\n",
       "       'levis', 'forever21', 'expedia', 'carnival', 'delta', 'allegiant',\n",
       "       'vrbo', 'hostelworld', 'hilton', 'palisociety', 'trivago',\n",
       "       'tripadvisor', 'viking', 'asos', 'primark', 'uniqlo', 'boohoo',\n",
       "       'starbucks', 'coca-cola', 'nutella', 'dove', 'heineken', 'justegg',\n",
       "       'oralb', 'burstoralcare', 'coppercowcoffee', 'rulebreakersnacks',\n",
       "       'caymanjack', 'pretzilla', 'cravnflavor'], dtype=object)"
      ]
     },
     "execution_count": 20,
     "metadata": {},
     "output_type": "execute_result"
    }
   ],
   "source": [
    "# Validate unique profiles in data\n",
    "unique_profiles = raw_df['PROFILE'].unique()\n",
    "unique_profiles"
   ]
  },
  {
   "cell_type": "code",
   "execution_count": 22,
   "metadata": {},
   "outputs": [],
   "source": [
    "# Export the cleaned DataFrame to a new CSV file\n",
    "raw_df.to_csv('../20_intermediate-files/free_exporatory_db.csv', index=False)\n"
   ]
  }
 ],
 "metadata": {
  "kernelspec": {
   "display_name": "base",
   "language": "python",
   "name": "python3"
  },
  "language_info": {
   "codemirror_mode": {
    "name": "ipython",
    "version": 3
   },
   "file_extension": ".py",
   "mimetype": "text/x-python",
   "name": "python",
   "nbconvert_exporter": "python",
   "pygments_lexer": "ipython3",
   "version": "3.11.5"
  }
 },
 "nbformat": 4,
 "nbformat_minor": 2
}
